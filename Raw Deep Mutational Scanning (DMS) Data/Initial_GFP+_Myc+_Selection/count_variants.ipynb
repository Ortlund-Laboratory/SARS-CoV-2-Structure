{
 "cells": [
  {
   "cell_type": "markdown",
   "metadata": {},
   "source": [
    "# Count variants in each sample\n",
    "This Python Jupyter notebook counts occurrences of each barcode in each sample from Illumina barcode sequencing, and adds these counts to the codon variant table."
   ]
  },
  {
   "cell_type": "markdown",
   "metadata": {},
   "source": [
    "## Set up analysis\n",
    "### Import Python modules.\n",
    "Use [plotnine](https://plotnine.readthedocs.io/en/stable/) for ggplot2-like plotting.\n",
    "\n",
    "The analysis relies heavily on the Bloom lab's [dms_variants](https://jbloomlab.github.io/dms_variants) package:"
   ]
  },
  {
   "cell_type": "code",
   "execution_count": 1,
   "metadata": {
    "execution": {
     "iopub.execute_input": "2025-02-24T20:58:03.868905Z",
     "iopub.status.busy": "2025-02-24T20:58:03.867846Z",
     "iopub.status.idle": "2025-02-24T20:58:05.075618Z",
     "shell.execute_reply": "2025-02-24T20:58:05.074551Z"
    }
   },
   "outputs": [],
   "source": [
    "import itertools\n",
    "import multiprocessing\n",
    "import multiprocessing.pool\n",
    "import os\n",
    "import warnings\n",
    "\n",
    "import alignparse\n",
    "import alignparse.targets\n",
    "\n",
    "import dms_variants.codonvarianttable\n",
    "from dms_variants.constants import CBPALETTE\n",
    "import dms_variants.illuminabarcodeparser\n",
    "import dms_variants.utils\n",
    "import dms_variants.plotnine_themes\n",
    "\n",
    "from IPython.display import display, HTML\n",
    "\n",
    "import pandas as pd\n",
    "\n",
    "from plotnine import *\n",
    "\n",
    "import yaml"
   ]
  },
  {
   "cell_type": "markdown",
   "metadata": {},
   "source": [
    "Set [plotnine](https://plotnine.readthedocs.io/en/stable/) theme to the gray-grid one defined in `dms_variants`:"
   ]
  },
  {
   "cell_type": "code",
   "execution_count": 2,
   "metadata": {
    "execution": {
     "iopub.execute_input": "2025-02-24T20:58:05.080933Z",
     "iopub.status.busy": "2025-02-24T20:58:05.080426Z",
     "iopub.status.idle": "2025-02-24T20:58:05.086218Z",
     "shell.execute_reply": "2025-02-24T20:58:05.085236Z"
    }
   },
   "outputs": [],
   "source": [
    "theme_set(dms_variants.plotnine_themes.theme_graygrid())"
   ]
  },
  {
   "cell_type": "markdown",
   "metadata": {},
   "source": [
    "Versions of key software:"
   ]
  },
  {
   "cell_type": "code",
   "execution_count": 3,
   "metadata": {
    "execution": {
     "iopub.execute_input": "2025-02-24T20:58:05.090919Z",
     "iopub.status.busy": "2025-02-24T20:58:05.090595Z",
     "iopub.status.idle": "2025-02-24T20:58:05.096292Z",
     "shell.execute_reply": "2025-02-24T20:58:05.095363Z"
    }
   },
   "outputs": [
    {
     "name": "stdout",
     "output_type": "stream",
     "text": [
      "Using alignparse version 0.6.0\n",
      "Using dms_variants version 1.4.3\n"
     ]
    }
   ],
   "source": [
    "print(f\"Using alignparse version {alignparse.__version__}\")\n",
    "print(f\"Using dms_variants version {dms_variants.__version__}\")"
   ]
  },
  {
   "cell_type": "markdown",
   "metadata": {},
   "source": [
    "Ignore warnings that clutter output:"
   ]
  },
  {
   "cell_type": "code",
   "execution_count": 4,
   "metadata": {
    "execution": {
     "iopub.execute_input": "2025-02-24T20:58:05.140050Z",
     "iopub.status.busy": "2025-02-24T20:58:05.138733Z",
     "iopub.status.idle": "2025-02-24T20:58:05.144717Z",
     "shell.execute_reply": "2025-02-24T20:58:05.143630Z"
    }
   },
   "outputs": [],
   "source": [
    "warnings.simplefilter('ignore')"
   ]
  },
  {
   "cell_type": "markdown",
   "metadata": {},
   "source": [
    "### Parameters for notebook\n",
    "Read the configuration file:"
   ]
  },
  {
   "cell_type": "code",
   "execution_count": 5,
   "metadata": {
    "execution": {
     "iopub.execute_input": "2025-02-24T20:58:05.148150Z",
     "iopub.status.busy": "2025-02-24T20:58:05.147683Z",
     "iopub.status.idle": "2025-02-24T20:58:05.168982Z",
     "shell.execute_reply": "2025-02-24T20:58:05.167763Z"
    }
   },
   "outputs": [],
   "source": [
    "with open('config.yaml') as f:\n",
    "    config = yaml.safe_load(f)"
   ]
  },
  {
   "cell_type": "markdown",
   "metadata": {},
   "source": [
    "Make output directory if needed:"
   ]
  },
  {
   "cell_type": "code",
   "execution_count": 6,
   "metadata": {
    "execution": {
     "iopub.execute_input": "2025-02-24T20:58:05.172782Z",
     "iopub.status.busy": "2025-02-24T20:58:05.172509Z",
     "iopub.status.idle": "2025-02-24T20:58:05.177298Z",
     "shell.execute_reply": "2025-02-24T20:58:05.176209Z"
    }
   },
   "outputs": [],
   "source": [
    "os.makedirs(config['counts_dir'], exist_ok=True)\n",
    "os.makedirs(config['figs_dir'], exist_ok=True)"
   ]
  },
  {
   "cell_type": "markdown",
   "metadata": {},
   "source": [
    "## Initialize codon variant table\n",
    "Initialize the [CodonVariantTable](https://jbloomlab.github.io/dms_variants/dms_variants.codonvarianttable.html#dms_variants.codonvarianttable.CodonVariantTable) using the wildtype gene sequence and the CSV file with the table of variants:"
   ]
  },
  {
   "cell_type": "code",
   "execution_count": 7,
   "metadata": {
    "execution": {
     "iopub.execute_input": "2025-02-24T20:58:05.182054Z",
     "iopub.status.busy": "2025-02-24T20:58:05.181621Z",
     "iopub.status.idle": "2025-02-24T20:58:07.711421Z",
     "shell.execute_reply": "2025-02-24T20:58:07.710107Z"
    }
   },
   "outputs": [
    {
     "name": "stdout",
     "output_type": "stream",
     "text": [
      "Read gene of 1257 nt for nucleocapsid from data/PacBio_amplicons.gb\n",
      "Initializing CodonVariantTable from gene sequence and results/prior_DMS_data/codon_variant_table.csv\n"
     ]
    }
   ],
   "source": [
    "# get wildtype gene sequence for primary target\n",
    "targets = alignparse.targets.Targets(seqsfile=config['amplicons'],\n",
    "                                     feature_parse_specs=config['feature_parse_specs'])\n",
    "geneseq = targets.get_target(config['primary_target']).get_feature('gene').seq\n",
    "print(f\"Read gene of {len(geneseq)} nt for {config['primary_target']} from {config['amplicons']}\")\n",
    "      \n",
    "print('Initializing CodonVariantTable from gene sequence and ' +\n",
    "      config['codon_variant_table'])\n",
    "      \n",
    "variants = dms_variants.codonvarianttable.CodonVariantTable(\n",
    "                geneseq=geneseq,\n",
    "                barcode_variant_file=config['codon_variant_table'],\n",
    "                substitutions_are_codon=True,\n",
    "                substitutions_col='codon_substitutions',\n",
    "                primary_target=config['primary_target'])"
   ]
  },
  {
   "cell_type": "markdown",
   "metadata": {},
   "source": [
    "## Setup to parse barcodes\n",
    "Read data frame with list of all barcode runs.\n",
    "Note how multiple R1 files are delimited by `; ` and are split out separately:"
   ]
  },
  {
   "cell_type": "code",
   "execution_count": 8,
   "metadata": {
    "execution": {
     "iopub.execute_input": "2025-02-24T20:58:07.716231Z",
     "iopub.status.busy": "2025-02-24T20:58:07.716054Z",
     "iopub.status.idle": "2025-02-24T20:58:07.731019Z",
     "shell.execute_reply": "2025-02-24T20:58:07.730331Z"
    }
   },
   "outputs": [
    {
     "name": "stdout",
     "output_type": "stream",
     "text": [
      "Reading list of barcode runs from data/rt_barcode_runs.csv\n"
     ]
    },
    {
     "data": {
      "text/html": [
       "<table border=\"1\" class=\"dataframe\">\n",
       "  <thead>\n",
       "    <tr style=\"text-align: right;\">\n",
       "      <th>library</th>\n",
       "      <th>sample</th>\n",
       "      <th>date</th>\n",
       "      <th>experiment</th>\n",
       "      <th>antibody</th>\n",
       "      <th>concentration</th>\n",
       "      <th>concentration_units</th>\n",
       "      <th>group</th>\n",
       "      <th>selection</th>\n",
       "      <th>frac_escape</th>\n",
       "      <th>cells_sorted</th>\n",
       "      <th>R1</th>\n",
       "    </tr>\n",
       "  </thead>\n",
       "  <tbody>\n",
       "    <tr>\n",
       "      <td>N-Lib05</td>\n",
       "      <td>exp1-none-0-reference</td>\n",
       "      <td>250224</td>\n",
       "      <td>exp1</td>\n",
       "      <td>none</td>\n",
       "      <td>0</td>\n",
       "      <td>ng_per_mL</td>\n",
       "      <td>none</td>\n",
       "      <td>reference</td>\n",
       "      <td>NaN</td>\n",
       "      <td>5000000</td>\n",
       "      <td>[/home/adkeith@Eu.Emory.Edu/DMS_Workflow/nucleocapsid/p21269_gfp_myc_analysis/rt_p21269-s002_211116_2_S96_L001_R2_001.fastq.gz]</td>\n",
       "    </tr>\n",
       "    <tr>\n",
       "      <td>N-Lib05</td>\n",
       "      <td>exp2-mycpos-2000-escape</td>\n",
       "      <td>250224</td>\n",
       "      <td>exp2</td>\n",
       "      <td>mycpos</td>\n",
       "      <td>2000</td>\n",
       "      <td>ng_per_mL</td>\n",
       "      <td>DK</td>\n",
       "      <td>escape</td>\n",
       "      <td>0.15</td>\n",
       "      <td>1000000</td>\n",
       "      <td>[/home/adkeith@Eu.Emory.Edu/DMS_Workflow/nucleocapsid/p21269_gfp_myc_analysis/rt_p21269-s004_211116_4_S98_L001_R2_001.fastq.gz]</td>\n",
       "    </tr>\n",
       "  </tbody>\n",
       "</table>"
      ],
      "text/plain": [
       "<IPython.core.display.HTML object>"
      ]
     },
     "metadata": {},
     "output_type": "display_data"
    }
   ],
   "source": [
    "print(f\"Reading list of barcode runs from {config['rt_barcode_runs']}\")\n",
    "\n",
    "rt_barcode_runs = (pd.read_csv(config['rt_barcode_runs'])\n",
    "                .assign(R1=lambda x: x['R1'].str.split('; '))\n",
    "                )\n",
    "      \n",
    "display(HTML(rt_barcode_runs.to_html(index=False)))"
   ]
  },
  {
   "cell_type": "markdown",
   "metadata": {},
   "source": [
    "Make sure library / sample combinations are unique:"
   ]
  },
  {
   "cell_type": "code",
   "execution_count": 9,
   "metadata": {
    "execution": {
     "iopub.execute_input": "2025-02-24T20:58:07.736379Z",
     "iopub.status.busy": "2025-02-24T20:58:07.736219Z",
     "iopub.status.idle": "2025-02-24T20:58:07.741802Z",
     "shell.execute_reply": "2025-02-24T20:58:07.740686Z"
    }
   },
   "outputs": [],
   "source": [
    "assert len(rt_barcode_runs) == len(rt_barcode_runs.groupby(['library', 'sample']))"
   ]
  },
  {
   "cell_type": "markdown",
   "metadata": {},
   "source": [
    "Make sure the the libraries for which we have barcode runs are all in our variant table:"
   ]
  },
  {
   "cell_type": "code",
   "execution_count": 10,
   "metadata": {
    "execution": {
     "iopub.execute_input": "2025-02-24T20:58:07.746061Z",
     "iopub.status.busy": "2025-02-24T20:58:07.745741Z",
     "iopub.status.idle": "2025-02-24T20:58:07.750218Z",
     "shell.execute_reply": "2025-02-24T20:58:07.749190Z"
    }
   },
   "outputs": [],
   "source": [
    "unknown_libs = set(rt_barcode_runs['library']) - set(variants.libraries)\n",
    "if unknown_libs:\n",
    "    raise ValueError(f\"Libraries with barcode runs not in variant table: {unknown_libs}\")"
   ]
  },
  {
   "cell_type": "markdown",
   "metadata": {},
   "source": [
    "The other barcode parsing params come from the config file:"
   ]
  },
  {
   "cell_type": "code",
   "execution_count": 11,
   "metadata": {
    "execution": {
     "iopub.execute_input": "2025-02-24T20:58:07.754507Z",
     "iopub.status.busy": "2025-02-24T20:58:07.754155Z",
     "iopub.status.idle": "2025-02-24T20:58:07.763563Z",
     "shell.execute_reply": "2025-02-24T20:58:07.762716Z"
    }
   },
   "outputs": [
    {
     "data": {
      "text/html": [
       "<table border=\"1\" class=\"dataframe\">\n",
       "  <thead>\n",
       "    <tr style=\"text-align: right;\">\n",
       "      <th>parameter</th>\n",
       "      <th>value</th>\n",
       "    </tr>\n",
       "  </thead>\n",
       "  <tbody>\n",
       "    <tr>\n",
       "      <td>upstream</td>\n",
       "      <td>GGAGAGGGGCGGNATCCGCGGCCGC</td>\n",
       "    </tr>\n",
       "    <tr>\n",
       "      <td>downstream</td>\n",
       "      <td>TTAACGTGGCTTCTTCTGCCACAGCATGATGAGAATAATAAGGGAAATGATAG</td>\n",
       "    </tr>\n",
       "    <tr>\n",
       "      <td>minq</td>\n",
       "      <td>20</td>\n",
       "    </tr>\n",
       "    <tr>\n",
       "      <td>upstream_mismatch</td>\n",
       "      <td>10</td>\n",
       "    </tr>\n",
       "    <tr>\n",
       "      <td>downstream_mismatch</td>\n",
       "      <td>10</td>\n",
       "    </tr>\n",
       "  </tbody>\n",
       "</table>"
      ],
      "text/plain": [
       "<IPython.core.display.HTML object>"
      ]
     },
     "metadata": {},
     "output_type": "display_data"
    }
   ],
   "source": [
    "parser_params = config['illumina_barcode_parser_params']\n",
    "\n",
    "display(HTML(\n",
    "    pd.Series(parser_params, name='value')\n",
    "    .rename_axis(index='parameter')\n",
    "    .reset_index()\n",
    "    .to_html(index=False)\n",
    "    ))"
   ]
  },
  {
   "cell_type": "markdown",
   "metadata": {},
   "source": [
    "The parser needs to know the set of valid barcodes, which are stored in the variant table and are different for each library.\n",
    "So we create a different parser for each library using these valid barcode sets:"
   ]
  },
  {
   "cell_type": "code",
   "execution_count": 12,
   "metadata": {
    "execution": {
     "iopub.execute_input": "2025-02-24T20:58:07.769643Z",
     "iopub.status.busy": "2025-02-24T20:58:07.769192Z",
     "iopub.status.idle": "2025-02-24T20:58:07.823444Z",
     "shell.execute_reply": "2025-02-24T20:58:07.822735Z"
    }
   },
   "outputs": [
    {
     "name": "stdout",
     "output_type": "stream",
     "text": [
      "Number of valid barcodes searched for by each parser:\n"
     ]
    },
    {
     "data": {
      "text/html": [
       "<table border=\"1\" class=\"dataframe\">\n",
       "  <thead>\n",
       "    <tr style=\"text-align: right;\">\n",
       "      <th>library</th>\n",
       "      <th>number of valid barcodes</th>\n",
       "    </tr>\n",
       "  </thead>\n",
       "  <tbody>\n",
       "    <tr>\n",
       "      <td>N-Lib05</td>\n",
       "      <td>156624</td>\n",
       "    </tr>\n",
       "  </tbody>\n",
       "</table>"
      ],
      "text/plain": [
       "<IPython.core.display.HTML object>"
      ]
     },
     "metadata": {},
     "output_type": "display_data"
    }
   ],
   "source": [
    "# create dict keyed by library, value is parser for library\n",
    "parsers = {lib: dms_variants.illuminabarcodeparser.IlluminaBarcodeParser(\n",
    "                    valid_barcodes=variants.valid_barcodes(lib),\n",
    "                    **parser_params)\n",
    "           for lib in variants.libraries}\n",
    "\n",
    "print('Number of valid barcodes searched for by each parser:')\n",
    "display(HTML(\n",
    "    pd.DataFrame([(lib, len(p.valid_barcodes)) for lib, p in parsers.items()],\n",
    "                 columns=['library', 'number of valid barcodes'])\n",
    "    .to_html(index=False)\n",
    "    ))"
   ]
  },
  {
   "cell_type": "markdown",
   "metadata": {},
   "source": [
    "## Parse barcodes\n",
    "We now parse the barcodes.\n",
    "Since this will take a while, we utilize multiple CPUs via the Python [multiprocessing](https://docs.python.org/3.6/library/multiprocessing.html) module.\n",
    "First, determine how many CPUs to use.\n",
    "We use the minimum of the user-specified number hardcoded below and the number actually available.\n",
    "(If you are running *interactively* on the Hutch cluster, you may need to reduce the number below in order to avoid an error as there is an enforced CPU limit on the home `rhino` nodes):"
   ]
  },
  {
   "cell_type": "code",
   "execution_count": 13,
   "metadata": {
    "execution": {
     "iopub.execute_input": "2025-02-24T20:58:07.829582Z",
     "iopub.status.busy": "2025-02-24T20:58:07.829313Z",
     "iopub.status.idle": "2025-02-24T20:58:07.833629Z",
     "shell.execute_reply": "2025-02-24T20:58:07.832887Z"
    }
   },
   "outputs": [
    {
     "name": "stdout",
     "output_type": "stream",
     "text": [
      "Using 12 CPUs\n"
     ]
    }
   ],
   "source": [
    "ncpus = min(config['max_cpus'], multiprocessing.cpu_count())\n",
    "print(f\"Using {ncpus} CPUs\")"
   ]
  },
  {
   "cell_type": "markdown",
   "metadata": {},
   "source": [
    "Parse the barcodes in parallel via a [multiprocessing.Pool](https://docs.python.org/3.6/library/multiprocessing.html#multiprocessing.pool.Pool) using all the available CPUs to get a list of the data frames with barcode counts / fates for each sample:"
   ]
  },
  {
   "cell_type": "code",
   "execution_count": 14,
   "metadata": {
    "execution": {
     "iopub.execute_input": "2025-02-24T20:58:07.839143Z",
     "iopub.status.busy": "2025-02-24T20:58:07.838714Z",
     "iopub.status.idle": "2025-02-24T21:50:28.664455Z",
     "shell.execute_reply": "2025-02-24T21:50:28.663831Z"
    }
   },
   "outputs": [],
   "source": [
    "def process_func(parser, r1files, library, sample):\n",
    "    \"\"\"Convenience function to be starmapped to multiprocessing pool.\"\"\"\n",
    "    return parser.parse(r1files, add_cols={'library': library, 'sample': sample})\n",
    "\n",
    "# parallel computation of list of data frames\n",
    "with multiprocessing.pool.Pool(processes=ncpus) as pool:\n",
    "    bclist = pool.starmap(\n",
    "                process_func,\n",
    "                [(parsers[run.library], run.R1, run.library, run.sample)\n",
    "                  for run in rt_barcode_runs.itertuples()],\n",
    "                )"
   ]
  },
  {
   "cell_type": "markdown",
   "metadata": {},
   "source": [
    "Now concatenate the list into data frames of barcode counts and barcode fates:"
   ]
  },
  {
   "cell_type": "code",
   "execution_count": 15,
   "metadata": {
    "execution": {
     "iopub.execute_input": "2025-02-24T21:50:28.667862Z",
     "iopub.status.busy": "2025-02-24T21:50:28.667595Z",
     "iopub.status.idle": "2025-02-24T21:50:28.711156Z",
     "shell.execute_reply": "2025-02-24T21:50:28.710440Z"
    }
   },
   "outputs": [
    {
     "name": "stdout",
     "output_type": "stream",
     "text": [
      "First few lines of counts data frame:\n"
     ]
    },
    {
     "data": {
      "text/html": [
       "<table border=\"1\" class=\"dataframe\">\n",
       "  <thead>\n",
       "    <tr style=\"text-align: right;\">\n",
       "      <th>barcode</th>\n",
       "      <th>count</th>\n",
       "      <th>library</th>\n",
       "      <th>sample</th>\n",
       "    </tr>\n",
       "  </thead>\n",
       "  <tbody>\n",
       "    <tr>\n",
       "      <td>CCCCGCCTTGGACCG</td>\n",
       "      <td>3280</td>\n",
       "      <td>N-Lib05</td>\n",
       "      <td>exp1-none-0-reference</td>\n",
       "    </tr>\n",
       "    <tr>\n",
       "      <td>CGGTGCGCTCCGGGC</td>\n",
       "      <td>3078</td>\n",
       "      <td>N-Lib05</td>\n",
       "      <td>exp1-none-0-reference</td>\n",
       "    </tr>\n",
       "    <tr>\n",
       "      <td>CGGCGTGGCACGCTC</td>\n",
       "      <td>2830</td>\n",
       "      <td>N-Lib05</td>\n",
       "      <td>exp1-none-0-reference</td>\n",
       "    </tr>\n",
       "    <tr>\n",
       "      <td>TGACAGGATGAGCCG</td>\n",
       "      <td>2821</td>\n",
       "      <td>N-Lib05</td>\n",
       "      <td>exp1-none-0-reference</td>\n",
       "    </tr>\n",
       "    <tr>\n",
       "      <td>CCGCCCCATTTGCAG</td>\n",
       "      <td>2738</td>\n",
       "      <td>N-Lib05</td>\n",
       "      <td>exp1-none-0-reference</td>\n",
       "    </tr>\n",
       "  </tbody>\n",
       "</table>"
      ],
      "text/plain": [
       "<IPython.core.display.HTML object>"
      ]
     },
     "metadata": {},
     "output_type": "display_data"
    },
    {
     "name": "stdout",
     "output_type": "stream",
     "text": [
      "First few lines of fates data frame:\n"
     ]
    },
    {
     "data": {
      "text/html": [
       "<table border=\"1\" class=\"dataframe\">\n",
       "  <thead>\n",
       "    <tr style=\"text-align: right;\">\n",
       "      <th>fate</th>\n",
       "      <th>count</th>\n",
       "      <th>library</th>\n",
       "      <th>sample</th>\n",
       "    </tr>\n",
       "  </thead>\n",
       "  <tbody>\n",
       "    <tr>\n",
       "      <td>valid barcode</td>\n",
       "      <td>45453264</td>\n",
       "      <td>N-Lib05</td>\n",
       "      <td>exp1-none-0-reference</td>\n",
       "    </tr>\n",
       "    <tr>\n",
       "      <td>low quality barcode</td>\n",
       "      <td>10943262</td>\n",
       "      <td>N-Lib05</td>\n",
       "      <td>exp1-none-0-reference</td>\n",
       "    </tr>\n",
       "    <tr>\n",
       "      <td>invalid barcode</td>\n",
       "      <td>7648701</td>\n",
       "      <td>N-Lib05</td>\n",
       "      <td>exp1-none-0-reference</td>\n",
       "    </tr>\n",
       "    <tr>\n",
       "      <td>unparseable barcode</td>\n",
       "      <td>5358820</td>\n",
       "      <td>N-Lib05</td>\n",
       "      <td>exp1-none-0-reference</td>\n",
       "    </tr>\n",
       "    <tr>\n",
       "      <td>failed chastity filter</td>\n",
       "      <td>0</td>\n",
       "      <td>N-Lib05</td>\n",
       "      <td>exp1-none-0-reference</td>\n",
       "    </tr>\n",
       "  </tbody>\n",
       "</table>"
      ],
      "text/plain": [
       "<IPython.core.display.HTML object>"
      ]
     },
     "metadata": {},
     "output_type": "display_data"
    }
   ],
   "source": [
    "counts = pd.concat([samplecounts for samplecounts, _ in bclist],\n",
    "                   sort=False,\n",
    "                   ignore_index=True)\n",
    "\n",
    "print('First few lines of counts data frame:')\n",
    "display(HTML(counts.head().to_html(index=False)))\n",
    "\n",
    "fates = pd.concat([samplefates for _, samplefates in bclist],\n",
    "                  sort=False,\n",
    "                  ignore_index=True)\n",
    "\n",
    "print('First few lines of fates data frame:')\n",
    "display(HTML(fates.head().to_html(index=False)))"
   ]
  },
  {
   "cell_type": "markdown",
   "metadata": {},
   "source": [
    "## Examine fates of parsed barcodes\n",
    "First, we'll analyze the \"fates\" of the parsed barcodes.\n",
    "These fates represent what happened to each Illumina read we parsed:\n",
    " - Did the barcode read fail the Illumina chastity filter?\n",
    " - Was the barcode *unparseable* (i.e., the read didn't appear to be a valid barcode based on flanking regions)?\n",
    " - Was the barcode sequence too *low quality* based on the Illumina quality scores?\n",
    " - Was the barcode parseable but *invalid* (i.e., not in our list of variant-associated barcodes in the codon variant table)?\n",
    " - Was the barcode *valid*, and so will be added to variant counts.\n",
    " \n",
    "First, we just write a CSV file with all the barcode fates:"
   ]
  },
  {
   "cell_type": "code",
   "execution_count": 16,
   "metadata": {
    "execution": {
     "iopub.execute_input": "2025-02-24T21:50:28.717728Z",
     "iopub.status.busy": "2025-02-24T21:50:28.717557Z",
     "iopub.status.idle": "2025-02-24T21:50:28.724109Z",
     "shell.execute_reply": "2025-02-24T21:50:28.723159Z"
    }
   },
   "outputs": [
    {
     "name": "stdout",
     "output_type": "stream",
     "text": [
      "Writing barcode fates to results/counts/barcode_fates.csv\n"
     ]
    }
   ],
   "source": [
    "fatesfile = os.path.join(config['counts_dir'], 'barcode_fates.csv')\n",
    "print(f\"Writing barcode fates to {fatesfile}\")\n",
    "fates.to_csv(fatesfile, index=False)"
   ]
  },
  {
   "cell_type": "markdown",
   "metadata": {},
   "source": [
    "Next, we tabulate the barcode fates in wide format:"
   ]
  },
  {
   "cell_type": "code",
   "execution_count": 17,
   "metadata": {
    "execution": {
     "iopub.execute_input": "2025-02-24T21:50:28.727948Z",
     "iopub.status.busy": "2025-02-24T21:50:28.727665Z",
     "iopub.status.idle": "2025-02-24T21:50:28.743638Z",
     "shell.execute_reply": "2025-02-24T21:50:28.742701Z"
    }
   },
   "outputs": [
    {
     "data": {
      "text/html": [
       "<table border=\"1\" class=\"dataframe\">\n",
       "  <thead>\n",
       "    <tr style=\"text-align: right;\">\n",
       "      <th></th>\n",
       "      <th>fate</th>\n",
       "      <th>failed chastity filter</th>\n",
       "      <th>invalid barcode</th>\n",
       "      <th>low quality barcode</th>\n",
       "      <th>unparseable barcode</th>\n",
       "      <th>valid barcode</th>\n",
       "    </tr>\n",
       "    <tr>\n",
       "      <th>library</th>\n",
       "      <th>sample</th>\n",
       "      <th></th>\n",
       "      <th></th>\n",
       "      <th></th>\n",
       "      <th></th>\n",
       "      <th></th>\n",
       "    </tr>\n",
       "  </thead>\n",
       "  <tbody>\n",
       "    <tr>\n",
       "      <th rowspan=\"2\" valign=\"top\">N-Lib05</th>\n",
       "      <th>exp1-none-0-reference</th>\n",
       "      <td>0</td>\n",
       "      <td>7648701</td>\n",
       "      <td>10943262</td>\n",
       "      <td>5358820</td>\n",
       "      <td>45453264</td>\n",
       "    </tr>\n",
       "    <tr>\n",
       "      <th>exp2-mycpos-2000-escape</th>\n",
       "      <td>0</td>\n",
       "      <td>1757477</td>\n",
       "      <td>2595861</td>\n",
       "      <td>1449388</td>\n",
       "      <td>11157227</td>\n",
       "    </tr>\n",
       "  </tbody>\n",
       "</table>"
      ],
      "text/plain": [
       "<IPython.core.display.HTML object>"
      ]
     },
     "metadata": {},
     "output_type": "display_data"
    }
   ],
   "source": [
    "display(HTML(fates\n",
    "             .pivot_table(columns='fate',\n",
    "                          values='count',\n",
    "                          index=['library', 'sample'])\n",
    "             .to_html()\n",
    "             ))"
   ]
  },
  {
   "cell_type": "markdown",
   "metadata": {},
   "source": [
    "Now we plot the barcode-read fates for each library / sample, showing the bars for valid barcodes in orange and the others in gray.\n",
    "We see that the largest fraction of barcode reads correspond to valid barcodes, and most of the others are invalid barcodes (probably because the map to variants that aren't present in our variant table since we didn't associate all variants with barcodes). The exception to this is lib2 Titeseq_03_bin3; the PCR for this sample in the original sequencing run failed, so we followed it up with a single MiSeq lane. We did not filter out the PhiX reads from this data before parsing, so these PhiX reads will deflate the fraction of valid barcode reads as expected, but does not indicate any problems."
   ]
  },
  {
   "cell_type": "code",
   "execution_count": 18,
   "metadata": {
    "execution": {
     "iopub.execute_input": "2025-02-24T21:50:28.748208Z",
     "iopub.status.busy": "2025-02-24T21:50:28.747907Z",
     "iopub.status.idle": "2025-02-24T21:50:29.101402Z",
     "shell.execute_reply": "2025-02-24T21:50:29.100706Z"
    }
   },
   "outputs": [
    {
     "data": {
      "image/png": "[encoded data removed]",
      "text/plain": [
       "<Figure size 280x544 with 2 Axes>"
      ]
     },
     "metadata": {},
     "output_type": "display_data"
    }
   ],
   "source": [
    "barcode_fate_plot = (\n",
    "    ggplot(\n",
    "        fates\n",
    "        .assign(sample=lambda x: pd.Categorical(x['sample'],\n",
    "                                                x['sample'].unique(),\n",
    "                                                ordered=True),\n",
    "                fate=lambda x: pd.Categorical(x['fate'],\n",
    "                                              x['fate'].unique(),\n",
    "                                              ordered=True),\n",
    "                is_valid=lambda x: x['fate'] == 'valid barcode'\n",
    "                ), \n",
    "        aes('fate', 'count', fill='is_valid')) +\n",
    "    geom_bar(stat='identity') +\n",
    "    facet_grid('sample ~ library') +\n",
    "    facet_grid('sample ~ library') +\n",
    "    scale_fill_manual(CBPALETTE, guide=False) +\n",
    "    theme(figure_size=(1.4 * (1 + fates['library'].nunique()),\n",
    "                       1.7 * (1.2 + fates['sample'].nunique())),\n",
    "          axis_text_x=element_text(angle=90),\n",
    "          panel_grid_major_x=element_blank()\n",
    "          ) +\n",
    "    scale_y_continuous(labels=dms_variants.utils.latex_sci_not,\n",
    "                       name='number of reads')\n",
    "    )\n",
    "\n",
    "_ = barcode_fate_plot.draw()"
   ]
  },
  {
   "cell_type": "markdown",
   "metadata": {},
   "source": [
    "## Add barcode counts to variant table\n",
    "Now we use the [CodonVariantTable.add_sample_counts_df](https://jbloomlab.github.io/dms_variants/dms_variants.codonvarianttable.html#dms_variants.codonvarianttable.CodonVariantTable.add_sample_counts_df) method to add the barcode counts to the variant table:"
   ]
  },
  {
   "cell_type": "code",
   "execution_count": 19,
   "metadata": {
    "execution": {
     "iopub.execute_input": "2025-02-24T21:50:29.107330Z",
     "iopub.status.busy": "2025-02-24T21:50:29.107155Z",
     "iopub.status.idle": "2025-02-24T21:50:29.900104Z",
     "shell.execute_reply": "2025-02-24T21:50:29.899190Z"
    }
   },
   "outputs": [],
   "source": [
    "variants.add_sample_counts_df(counts)"
   ]
  },
  {
   "cell_type": "markdown",
   "metadata": {},
   "source": [
    "The variant table now has a `variant_count_df` attribute that gives a data frame of all the variant counts.\n",
    "Here are the first few lines:"
   ]
  },
  {
   "cell_type": "code",
   "execution_count": 20,
   "metadata": {
    "execution": {
     "iopub.execute_input": "2025-02-24T21:50:29.905437Z",
     "iopub.status.busy": "2025-02-24T21:50:29.904853Z",
     "iopub.status.idle": "2025-02-24T21:50:29.912647Z",
     "shell.execute_reply": "2025-02-24T21:50:29.911970Z"
    }
   },
   "outputs": [
    {
     "data": {
      "text/html": [
       "<table border=\"1\" class=\"dataframe\">\n",
       "  <thead>\n",
       "    <tr style=\"text-align: right;\">\n",
       "      <th>target</th>\n",
       "      <th>library</th>\n",
       "      <th>sample</th>\n",
       "      <th>barcode</th>\n",
       "      <th>count</th>\n",
       "      <th>variant_call_support</th>\n",
       "      <th>codon_substitutions</th>\n",
       "      <th>aa_substitutions</th>\n",
       "      <th>n_codon_substitutions</th>\n",
       "      <th>n_aa_substitutions</th>\n",
       "    </tr>\n",
       "  </thead>\n",
       "  <tbody>\n",
       "    <tr>\n",
       "      <td>nucleocapsid</td>\n",
       "      <td>N-Lib05</td>\n",
       "      <td>exp1-none-0-reference</td>\n",
       "      <td>CCCCGCCTTGGACCG</td>\n",
       "      <td>3280</td>\n",
       "      <td>33</td>\n",
       "      <td>CCA20CTG TTT110GTT GAG378TGA</td>\n",
       "      <td>P20L F110V E378*</td>\n",
       "      <td>3</td>\n",
       "      <td>3</td>\n",
       "    </tr>\n",
       "    <tr>\n",
       "      <td>nucleocapsid</td>\n",
       "      <td>N-Lib05</td>\n",
       "      <td>exp1-none-0-reference</td>\n",
       "      <td>CGGTGCGCTCCGGGC</td>\n",
       "      <td>3078</td>\n",
       "      <td>34</td>\n",
       "      <td>GAG31TTC</td>\n",
       "      <td>E31F</td>\n",
       "      <td>1</td>\n",
       "      <td>1</td>\n",
       "    </tr>\n",
       "    <tr>\n",
       "      <td>nucleocapsid</td>\n",
       "      <td>N-Lib05</td>\n",
       "      <td>exp1-none-0-reference</td>\n",
       "      <td>CGGCGTGGCACGCTC</td>\n",
       "      <td>2830</td>\n",
       "      <td>23</td>\n",
       "      <td>GAG323ATG</td>\n",
       "      <td>E323M</td>\n",
       "      <td>1</td>\n",
       "      <td>1</td>\n",
       "    </tr>\n",
       "    <tr>\n",
       "      <td>nucleocapsid</td>\n",
       "      <td>N-Lib05</td>\n",
       "      <td>exp1-none-0-reference</td>\n",
       "      <td>TGACAGGATGAGCCG</td>\n",
       "      <td>2821</td>\n",
       "      <td>24</td>\n",
       "      <td>GAT288GTG</td>\n",
       "      <td>D288V</td>\n",
       "      <td>1</td>\n",
       "      <td>1</td>\n",
       "    </tr>\n",
       "    <tr>\n",
       "      <td>nucleocapsid</td>\n",
       "      <td>N-Lib05</td>\n",
       "      <td>exp1-none-0-reference</td>\n",
       "      <td>CCGCCCCATTTGCAG</td>\n",
       "      <td>2738</td>\n",
       "      <td>21</td>\n",
       "      <td>TTT315ACC</td>\n",
       "      <td>F315T</td>\n",
       "      <td>1</td>\n",
       "      <td>1</td>\n",
       "    </tr>\n",
       "  </tbody>\n",
       "</table>"
      ],
      "text/plain": [
       "<IPython.core.display.HTML object>"
      ]
     },
     "metadata": {},
     "output_type": "display_data"
    }
   ],
   "source": [
    "display(HTML(variants.variant_count_df.head().to_html(index=False)))"
   ]
  },
  {
   "cell_type": "markdown",
   "metadata": {},
   "source": [
    "Confirm that we have counts for all of our library / sample combinations:"
   ]
  },
  {
   "cell_type": "code",
   "execution_count": 21,
   "metadata": {
    "execution": {
     "iopub.execute_input": "2025-02-24T21:50:29.917391Z",
     "iopub.status.busy": "2025-02-24T21:50:29.917203Z",
     "iopub.status.idle": "2025-02-24T21:50:29.934074Z",
     "shell.execute_reply": "2025-02-24T21:50:29.932771Z"
    }
   },
   "outputs": [],
   "source": [
    "pd.testing.assert_frame_equal(\n",
    "    rt_barcode_runs[['library', 'sample']]\n",
    "                .sort_values(['library', 'sample'])\n",
    "                .reset_index(drop=True),\n",
    "    variants.variant_count_df\n",
    "        [['library', 'sample']]\n",
    "        .drop_duplicates()\n",
    "        .sort_values(['library', 'sample'])\n",
    "        .reset_index(drop=True),\n",
    "    check_dtype=False,\n",
    "    check_categorical=False,\n",
    "    check_like=True,\n",
    "    )"
   ]
  },
  {
   "cell_type": "code",
   "execution_count": 22,
   "metadata": {
    "execution": {
     "iopub.execute_input": "2025-02-24T21:50:29.938704Z",
     "iopub.status.busy": "2025-02-24T21:50:29.938522Z",
     "iopub.status.idle": "2025-02-24T21:50:29.946497Z",
     "shell.execute_reply": "2025-02-24T21:50:29.945835Z"
    }
   },
   "outputs": [
    {
     "data": {
      "text/html": [
       "<div>\n",
       "<style scoped>\n",
       "    .dataframe tbody tr th:only-of-type {\n",
       "        vertical-align: middle;\n",
       "    }\n",
       "\n",
       "    .dataframe tbody tr th {\n",
       "        vertical-align: top;\n",
       "    }\n",
       "\n",
       "    .dataframe thead th {\n",
       "        text-align: right;\n",
       "    }\n",
       "</style>\n",
       "<table border=\"1\" class=\"dataframe\">\n",
       "  <thead>\n",
       "    <tr style=\"text-align: right;\">\n",
       "      <th></th>\n",
       "      <th>library</th>\n",
       "      <th>sample</th>\n",
       "    </tr>\n",
       "  </thead>\n",
       "  <tbody>\n",
       "    <tr>\n",
       "      <th>0</th>\n",
       "      <td>N-Lib05</td>\n",
       "      <td>exp1-none-0-reference</td>\n",
       "    </tr>\n",
       "    <tr>\n",
       "      <th>1</th>\n",
       "      <td>N-Lib05</td>\n",
       "      <td>exp2-mycpos-2000-escape</td>\n",
       "    </tr>\n",
       "  </tbody>\n",
       "</table>\n",
       "</div>"
      ],
      "text/plain": [
       "   library                   sample\n",
       "0  N-Lib05    exp1-none-0-reference\n",
       "1  N-Lib05  exp2-mycpos-2000-escape"
      ]
     },
     "execution_count": 22,
     "metadata": {},
     "output_type": "execute_result"
    }
   ],
   "source": [
    "rt_barcode_runs[['library', 'sample']].sort_values(['library', 'sample'])"
   ]
  },
  {
   "cell_type": "code",
   "execution_count": 23,
   "metadata": {
    "execution": {
     "iopub.execute_input": "2025-02-24T21:50:29.952297Z",
     "iopub.status.busy": "2025-02-24T21:50:29.952124Z",
     "iopub.status.idle": "2025-02-24T21:50:29.972351Z",
     "shell.execute_reply": "2025-02-24T21:50:29.971665Z"
    }
   },
   "outputs": [
    {
     "data": {
      "text/html": [
       "<div>\n",
       "<style scoped>\n",
       "    .dataframe tbody tr th:only-of-type {\n",
       "        vertical-align: middle;\n",
       "    }\n",
       "\n",
       "    .dataframe tbody tr th {\n",
       "        vertical-align: top;\n",
       "    }\n",
       "\n",
       "    .dataframe thead th {\n",
       "        text-align: right;\n",
       "    }\n",
       "</style>\n",
       "<table border=\"1\" class=\"dataframe\">\n",
       "  <thead>\n",
       "    <tr style=\"text-align: right;\">\n",
       "      <th></th>\n",
       "      <th>library</th>\n",
       "      <th>sample</th>\n",
       "    </tr>\n",
       "  </thead>\n",
       "  <tbody>\n",
       "  </tbody>\n",
       "</table>\n",
       "</div>"
      ],
      "text/plain": [
       "Empty DataFrame\n",
       "Columns: [library, sample]\n",
       "Index: []"
      ]
     },
     "execution_count": 23,
     "metadata": {},
     "output_type": "execute_result"
    }
   ],
   "source": [
    "((variants.variant_count_df\n",
    "        [['library', 'sample']]\n",
    "        .drop_duplicates()\n",
    "        .sort_values(['library', 'sample'])\n",
    "        .reset_index(drop=True)) == rt_barcode_runs[['library', 'sample']].sort_values(['library', 'sample']).reset_index(drop=True)).query('sample == False')"
   ]
  },
  {
   "cell_type": "markdown",
   "metadata": {},
   "source": [
    "Write the variant counts data frame to a CSV file.\n",
    "It can then be used to re-initialize a [CodonVariantTable](https://jbloomlab.github.io/dms_variants/dms_variants.codonvarianttable.html#dms_variants.codonvarianttable.CodonVariantTable) via its [from_variant_count_df](https://jbloomlab.github.io/dms_variants/dms_variants.codonvarianttable.html#dms_variants.codonvarianttable.CodonVariantTable.from_variant_count_df) method:"
   ]
  },
  {
   "cell_type": "code",
   "execution_count": 24,
   "metadata": {
    "execution": {
     "iopub.execute_input": "2025-02-24T21:50:29.977375Z",
     "iopub.status.busy": "2025-02-24T21:50:29.977199Z",
     "iopub.status.idle": "2025-02-24T21:50:30.708209Z",
     "shell.execute_reply": "2025-02-24T21:50:30.707497Z"
    }
   },
   "outputs": [
    {
     "name": "stdout",
     "output_type": "stream",
     "text": [
      "Writing variant counts to results/counts/variant_counts.csv\n"
     ]
    }
   ],
   "source": [
    "print(f\"Writing variant counts to {config['variant_counts']}\")\n",
    "variants.variant_count_df.to_csv(config['variant_counts'], index=False)"
   ]
  },
  {
   "cell_type": "markdown",
   "metadata": {},
   "source": [
    "The [CodonVariantTable](https://jbloomlab.github.io/dms_variants/dms_variants.codonvarianttable.html#dms_variants.codonvarianttable.CodonVariantTable) has lots of nice functions that can be used to analyze the counts it contains.\n",
    "However, we do that in the next notebook so we don't have to re-run this entire (rather computationally intensive) notebook every time we want to analyze a new aspect of the counts."
   ]
  },
  {
   "cell_type": "code",
   "execution_count": null,
   "metadata": {},
   "outputs": [],
   "source": []
  },
  {
   "cell_type": "code",
   "execution_count": null,
   "metadata": {},
   "outputs": [],
   "source": []
  }
 ],
 "metadata": {
  "kernelspec": {
   "display_name": "Python 3 (ipykernel)",
   "language": "python",
   "name": "python3"
  },
  "language_info": {
   "codemirror_mode": {
    "name": "ipython",
    "version": 3
   },
   "file_extension": ".py",
   "mimetype": "text/x-python",
   "name": "python",
   "nbconvert_exporter": "python",
   "pygments_lexer": "ipython3",
   "version": "3.8.12"
  },
  "toc": {
   "base_numbering": 1,
   "nav_menu": {},
   "number_sections": false,
   "sideBar": true,
   "skip_h1_title": false,
   "title_cell": "Table of Contents",
   "title_sidebar": "Contents",
   "toc_cell": true,
   "toc_position": {},
   "toc_section_display": true,
   "toc_window_display": true
  }
 },
 "nbformat": 4,
 "nbformat_minor": 4
}
